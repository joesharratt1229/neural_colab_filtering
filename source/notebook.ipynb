{
 "cells": [
  {
   "cell_type": "code",
   "execution_count": 1,
   "metadata": {},
   "outputs": [],
   "source": [
    "import pandas as pd\n",
    "import urllib\n",
    "import tempfile\n",
    "import shutil\n",
    "import zipfile\n",
    "import os\n",
    "\n",
    "os.chdir('/Users/joesh/neural_colab_filtering/')\n",
    "archive_url = f'http://files.grouplens.org/datasets/movielens/ml-1m.zip'\n",
    "wd = os.getcwd()\n",
    "\n",
    "with urllib.request.urlopen(archive_url) as url:\n",
    "    with tempfile.NamedTemporaryFile(delete=True) as f:\n",
    "        shutil.copyfileobj(url, f)\n",
    "        with zipfile.ZipFile(f.name) as archive:\n",
    "            archive.extractall(f'{wd}/datasets')\n"
   ]
  },
  {
   "cell_type": "code",
   "execution_count": 2,
   "metadata": {},
   "outputs": [
    {
     "name": "stdout",
     "output_type": "stream",
     "text": [
      "mps\n"
     ]
    }
   ],
   "source": [
    "import torch\n",
    "device = torch.device('cpu') if not torch.backends.mps.is_available() else torch.device('mps')\n",
    "print(device)"
   ]
  },
  {
   "cell_type": "code",
   "execution_count": 3,
   "metadata": {},
   "outputs": [
    {
     "data": {
      "text/html": [
       "<div>\n",
       "<style scoped>\n",
       "    .dataframe tbody tr th:only-of-type {\n",
       "        vertical-align: middle;\n",
       "    }\n",
       "\n",
       "    .dataframe tbody tr th {\n",
       "        vertical-align: top;\n",
       "    }\n",
       "\n",
       "    .dataframe thead th {\n",
       "        text-align: right;\n",
       "    }\n",
       "</style>\n",
       "<table border=\"1\" class=\"dataframe\">\n",
       "  <thead>\n",
       "    <tr style=\"text-align: right;\">\n",
       "      <th></th>\n",
       "      <th>user_id</th>\n",
       "      <th>movie_id</th>\n",
       "      <th>rating</th>\n",
       "      <th>timestamp</th>\n",
       "    </tr>\n",
       "  </thead>\n",
       "  <tbody>\n",
       "    <tr>\n",
       "      <th>0</th>\n",
       "      <td>1</td>\n",
       "      <td>1193</td>\n",
       "      <td>5</td>\n",
       "      <td>978300760</td>\n",
       "    </tr>\n",
       "    <tr>\n",
       "      <th>1</th>\n",
       "      <td>1</td>\n",
       "      <td>661</td>\n",
       "      <td>3</td>\n",
       "      <td>978302109</td>\n",
       "    </tr>\n",
       "    <tr>\n",
       "      <th>2</th>\n",
       "      <td>1</td>\n",
       "      <td>914</td>\n",
       "      <td>3</td>\n",
       "      <td>978301968</td>\n",
       "    </tr>\n",
       "    <tr>\n",
       "      <th>3</th>\n",
       "      <td>1</td>\n",
       "      <td>3408</td>\n",
       "      <td>4</td>\n",
       "      <td>978300275</td>\n",
       "    </tr>\n",
       "    <tr>\n",
       "      <th>4</th>\n",
       "      <td>1</td>\n",
       "      <td>2355</td>\n",
       "      <td>5</td>\n",
       "      <td>978824291</td>\n",
       "    </tr>\n",
       "  </tbody>\n",
       "</table>\n",
       "</div>"
      ],
      "text/plain": [
       "   user_id  movie_id  rating  timestamp\n",
       "0        1      1193       5  978300760\n",
       "1        1       661       3  978302109\n",
       "2        1       914       3  978301968\n",
       "3        1      3408       4  978300275\n",
       "4        1      2355       5  978824291"
      ]
     },
     "execution_count": 3,
     "metadata": {},
     "output_type": "execute_result"
    }
   ],
   "source": [
    "ratings = pd.read_csv('datasets/ml-1m/ratings.dat', sep='::', engine = 'python', \n",
    "                        header=None,\n",
    "                        names=['user_id', 'movie_id', 'rating', 'timestamp'])\n",
    "\n",
    "ratings.head()"
   ]
  },
  {
   "cell_type": "code",
   "execution_count": 4,
   "metadata": {},
   "outputs": [],
   "source": [
    "import source.model as model\n",
    "import source.data as data\n",
    "\n",
    "import torch.nn as nn\n",
    "\n",
    "# Create a dataset object\n",
    "\n",
    "dataset = data.filmDataset( ratings['user_id'].values, ratings['movie_id'].values, \n",
    "                            ratings['rating'].values)\n",
    "\n",
    "mod = model.NCF(ratings.user_id.nunique(), ratings.movie_id.nunique(), dropout_rate=0.2)"
   ]
  },
  {
   "cell_type": "code",
   "execution_count": 5,
   "metadata": {},
   "outputs": [],
   "source": [
    "# Create a dataloader object\n",
    "\n",
    "from torch.utils.data import DataLoader\n",
    "def create_dataloader(dataset, batch_size):\n",
    "    train_set_size = int(0.9 * len(dataset))\n",
    "    test_set_size = len(dataset) - train_set_size\n",
    "\n",
    "    trainset, testset = torch.utils.data.random_split(dataset, [train_set_size, test_set_size])\n",
    "\n",
    "    train_set_size = int(0.8 * len(trainset))\n",
    "    valid_set_size = len(trainset) - train_set_size\n",
    "\n",
    "    train_set, valid_set = torch.utils.data.random_split(trainset, \n",
    "                       [train_set_size, valid_set_size])\n",
    "\n",
    "    train_loader = DataLoader(train_set, batch_size=batch_size, shuffle=True, drop_last= False)\n",
    "    valid_loader = DataLoader(valid_set, batch_size=batch_size, shuffle=False, drop_last=False)\n",
    "    test_loader = DataLoader(testset, batch_size=batch_size, shuffle=False, drop_last=False)\n",
    "    return train_loader, valid_loader, test_loader\n",
    "\n",
    "train_loader, valid_loader, test_loader = create_dataloader(dataset, 1024)"
   ]
  },
  {
   "cell_type": "code",
   "execution_count": 6,
   "metadata": {},
   "outputs": [
    {
     "name": "stdout",
     "output_type": "stream",
     "text": [
      "Our model architecture: \n",
      "\n",
      " NCF(\n",
      "  (embedding_user): Embedding(6040, 32)\n",
      "  (embedding_item): Embedding(3706, 32)\n",
      "  (MLP): Sequential(\n",
      "    (0): Linear(in_features=64, out_features=32, bias=True)\n",
      "    (1): ReLU()\n",
      "    (2): Dropout(p=0.2, inplace=False)\n",
      "    (3): Linear(in_features=32, out_features=16, bias=True)\n",
      "    (4): ReLU()\n",
      "    (5): Dropout(p=0.2, inplace=False)\n",
      "    (6): Linear(in_features=16, out_features=8, bias=True)\n",
      "    (7): ReLU()\n",
      "    (8): Dropout(p=0.2, inplace=False)\n",
      "    (9): Linear(in_features=8, out_features=1, bias=True)\n",
      "    (10): Sigmoid()\n",
      "  )\n",
      "  (dropout): Dropout(p=0.2, inplace=False)\n",
      ") \n",
      "\n"
     ]
    }
   ],
   "source": [
    "import json\n",
    "\n",
    "def _get_config_file(model_path, model_name):\n",
    "    #Name of the file for storing hyperparameter details\n",
    "    return os.path.join(model_path, model_name+ \".config\")\n",
    "\n",
    "def _get_model_file(model_path, model_name):\n",
    "    #Name of the file for storing network parameters\n",
    "    return os.path.join(model_path, model_name+\".tar\")\n",
    "\n",
    "def save_model(model, model_path, model_name):\n",
    "    config_dict = model.config\n",
    "    os.makedirs(model_path, exist_ok = True)\n",
    "    config_file, model_file = _get_config_file(model_path, model_name), _get_model_file(model_path, model_name)\n",
    "    with open(config_file, 'w') as f:\n",
    "        json.dump(config_dict, f)\n",
    "    torch.save(model.state_dict(), model_file)\n",
    "\n",
    "\n",
    "\n",
    "checkpoint_path = os.path.join(os.getcwd(), \"checkpoints\")\n",
    "mod = mod.to(device)\n",
    "num_params = sum(p.numel() for p in mod.parameters())\n",
    "print(f'Our model architecture: \\n\\n {mod} \\n')\n",
    "\n",
    "def load_model(model_path, model_name, network=None):\n",
    "    model_file = _get_model_file(model_path, model_name)\n",
    "    network.load_state_dict(torch.load(model_file, map_location=device))\n",
    "    return network"
   ]
  },
  {
   "cell_type": "code",
   "execution_count": 7,
   "metadata": {},
   "outputs": [],
   "source": [
    "from tqdm.notebook import tqdm\n",
    "\n",
    "def train_model(net, model_name, dataset, max_epoch=30, patience= 5, \n",
    "overwrite=False, weight_decay = 0):\n",
    "  #net = net.to(device)\n",
    "  file_exists  = os.path.isfile(_get_model_file(checkpoint_path, model_name))\n",
    "  train_loader, valid_loader, test_loader = create_dataloader(dataset, 1024) \n",
    "   \n",
    "  if file_exists and not overwrite:\n",
    "    print(\"Model already exists. Skipping training\")\n",
    "  else:\n",
    "    if file_exists:\n",
    "      print(\"Overwriting existing model\")\n",
    "    \n",
    "    optimizer = torch.optim.Adam(net.parameters(), lr=0.01, weight_decay= weight_decay)\n",
    "    loss_module = nn.MSELoss()\n",
    "    \n",
    "    val_score = []\n",
    "    best_val_epoch = -1\n",
    "    \n",
    "\n",
    "    for epoch in range(max_epoch):\n",
    "      net.train()\n",
    "      running_loss = 0.0\n",
    "      count = 0\n",
    "      for users, film, ratings in tqdm(train_loader, desc = f\"Epoch {epoch+1}\", leave=False):\n",
    "        count += 1\n",
    "        users , film, ratings = users.to(device), film.to(device), ratings.to(device)\n",
    "        ratings = ratings.unsqueeze(-1).type(torch.float32)\n",
    "        optimizer.zero_grad() #clear any existing gradients\n",
    "        preds = net(users, film)\n",
    "        loss = loss_module(preds, ratings)\n",
    "        running_loss += loss.item()\n",
    "\n",
    "        loss.backward()\n",
    "        optimizer.step()\n",
    "      \n",
    "      running_loss = running_loss/count\n",
    "      val_loss = test_model(net, valid_loader)\n",
    "      val_score.append(val_loss)\n",
    "      print(f'Epoch {epoch+1:2d}: Training loss: {running_loss}, Validation loss {val_loss}')\n",
    "\n",
    "      if len(val_score) == 1 or val_loss < val_score[best_val_epoch]:\n",
    "        print(\"New best. Saving model\")\n",
    "        save_model(net, checkpoint_path, model_name)\n",
    "        best_val_epoch = epoch\n",
    "      elif best_val_epoch <= epoch - patience:\n",
    "        print(f\"Early stopping since model is not improving over last {patience} epochs\")\n",
    "        break\n",
    "    \n",
    "  load_model(checkpoint_path, model_name, net)\n",
    "  test_acc = test_model(net, test_loader)\n",
    "  print(f\"Test loss: {test_acc}\")\n",
    "  return test_acc\n",
    "      \n",
    "def test_model(net, data_loader):\n",
    "  loss_module = nn.MSELoss()\n",
    "  net.eval()\n",
    "  running_loss = 0.0\n",
    "  count = 0\n",
    "  for users, films, ratings in data_loader:\n",
    "    count += 1\n",
    "    users , films, ratings = users.to(device), films.to(device), ratings.to(device)\n",
    "    with torch.no_grad():\n",
    "      ratings = ratings.unsqueeze(-1).type(torch.float32)\n",
    "      preds = net(users, films)\n",
    "      loss = loss_module(preds, ratings)\n",
    "      running_loss += loss.item()\n",
    "  return running_loss/count\n"
   ]
  },
  {
   "cell_type": "code",
   "execution_count": 8,
   "metadata": {},
   "outputs": [
    {
     "name": "stdout",
     "output_type": "stream",
     "text": [
      "Model already exists. Skipping training\n",
      "Test loss: 0.7774770941053119\n"
     ]
    },
    {
     "data": {
      "text/plain": [
       "0.7774770941053119"
      ]
     },
     "execution_count": 8,
     "metadata": {},
     "output_type": "execute_result"
    }
   ],
   "source": [
    "mod_name = \"NCF_Recommender\"\n",
    "torch.seed()\n",
    "train_model(mod, mod_name, dataset)\n"
   ]
  },
  {
   "cell_type": "code",
   "execution_count": 9,
   "metadata": {},
   "outputs": [],
   "source": [
    "mod = mod.cpu()"
   ]
  },
  {
   "cell_type": "code",
   "execution_count": 10,
   "metadata": {},
   "outputs": [
    {
     "name": "stdout",
     "output_type": "stream",
     "text": [
      "Model already exists. Skipping training\n",
      "Test loss: 0.7856738105112192\n"
     ]
    },
    {
     "data": {
      "text/plain": [
       "0.7856738105112192"
      ]
     },
     "execution_count": 10,
     "metadata": {},
     "output_type": "execute_result"
    }
   ],
   "source": [
    "#mod.MLP\n",
    "import gmf\n",
    "from torch.backends import mps\n",
    "\n",
    "gmf_mod = gmf.GMF(ratings.user_id.nunique(), ratings.movie_id.nunique())\n",
    "gmf_mod = gmf_mod.to(device)\n",
    "gmf_mod_name = \"GMF_Recommender\"\n",
    "torch.seed()\n",
    "train_model(gmf_mod, gmf_mod_name, dataset)\n"
   ]
  },
  {
   "cell_type": "code",
   "execution_count": 11,
   "metadata": {},
   "outputs": [
    {
     "data": {
      "application/vnd.jupyter.widget-view+json": {
       "model_id": "928059e254c8440bb4df7c60fd60f1e9",
       "version_major": 2,
       "version_minor": 0
      },
      "text/plain": [
       "Epoch 1:   0%|          | 0/704 [00:00<?, ?it/s]"
      ]
     },
     "metadata": {},
     "output_type": "display_data"
    },
    {
     "name": "stdout",
     "output_type": "stream",
     "text": [
      "Epoch  1: Training loss: 0.76179582439363, Validation loss 0.7524748576635664\n",
      "New best. Saving model\n"
     ]
    },
    {
     "data": {
      "application/vnd.jupyter.widget-view+json": {
       "model_id": "5f58aa280244469d9324a16e220f26f6",
       "version_major": 2,
       "version_minor": 0
      },
      "text/plain": [
       "Epoch 2:   0%|          | 0/704 [00:00<?, ?it/s]"
      ]
     },
     "metadata": {},
     "output_type": "display_data"
    },
    {
     "name": "stdout",
     "output_type": "stream",
     "text": [
      "Epoch  2: Training loss: 0.7054447743364356, Validation loss 0.7657066966322336\n"
     ]
    },
    {
     "data": {
      "application/vnd.jupyter.widget-view+json": {
       "model_id": "1d475d66c16f467c8ef44a5e6f2d3ddc",
       "version_major": 2,
       "version_minor": 0
      },
      "text/plain": [
       "Epoch 3:   0%|          | 0/704 [00:00<?, ?it/s]"
      ]
     },
     "metadata": {},
     "output_type": "display_data"
    },
    {
     "name": "stdout",
     "output_type": "stream",
     "text": [
      "Epoch  3: Training loss: 0.6480193041603673, Validation loss 0.7824813618578694\n"
     ]
    },
    {
     "data": {
      "application/vnd.jupyter.widget-view+json": {
       "model_id": "f5906b30a32049969b35930b342419c6",
       "version_major": 2,
       "version_minor": 0
      },
      "text/plain": [
       "Epoch 4:   0%|          | 0/704 [00:00<?, ?it/s]"
      ]
     },
     "metadata": {},
     "output_type": "display_data"
    },
    {
     "name": "stdout",
     "output_type": "stream",
     "text": [
      "Epoch  4: Training loss: 0.5994345182552934, Validation loss 0.8177003061229532\n"
     ]
    },
    {
     "data": {
      "application/vnd.jupyter.widget-view+json": {
       "model_id": "a250f61ffcb64abc89ee7a15131ef665",
       "version_major": 2,
       "version_minor": 0
      },
      "text/plain": [
       "Epoch 5:   0%|          | 0/704 [00:00<?, ?it/s]"
      ]
     },
     "metadata": {},
     "output_type": "display_data"
    },
    {
     "name": "stdout",
     "output_type": "stream",
     "text": [
      "Epoch  5: Training loss: 0.5619590776887807, Validation loss 0.835741076618433\n"
     ]
    },
    {
     "data": {
      "application/vnd.jupyter.widget-view+json": {
       "model_id": "e7eb70c7fadd44958b26b5d236de2237",
       "version_major": 2,
       "version_minor": 0
      },
      "text/plain": [
       "Epoch 6:   0%|          | 0/704 [00:00<?, ?it/s]"
      ]
     },
     "metadata": {},
     "output_type": "display_data"
    },
    {
     "name": "stdout",
     "output_type": "stream",
     "text": [
      "Epoch  6: Training loss: 0.5349303246052428, Validation loss 0.8668314584276893\n",
      "Early stopping since model is not improving over last 5 epochs\n",
      "Test loss: 0.7570701150261626\n"
     ]
    },
    {
     "data": {
      "text/plain": [
       "0.7570701150261626"
      ]
     },
     "execution_count": 11,
     "metadata": {},
     "output_type": "execute_result"
    }
   ],
   "source": [
    "import neumf\n",
    "gmf_mod = gmf_mod.cpu()\n",
    "final_model = neumf.NeuMF(mod, gmf_mod)\n",
    "final_model = final_model.to(device)\n",
    "final_model_name = \"NeuMF Model\"\n",
    "train_model(final_model, final_model_name, dataset, weight_decay= 0.0001, overwrite=True)\n",
    "\n",
    "\n"
   ]
  }
 ],
 "metadata": {
  "kernelspec": {
   "display_name": "Python 3 (ipykernel)",
   "language": "python",
   "name": "python3"
  },
  "language_info": {
   "codemirror_mode": {
    "name": "ipython",
    "version": 3
   },
   "file_extension": ".py",
   "mimetype": "text/x-python",
   "name": "python",
   "nbconvert_exporter": "python",
   "pygments_lexer": "ipython3",
   "version": "3.10.6"
  },
  "vscode": {
   "interpreter": {
    "hash": "7288f315087fdb0a15835a979a50c8db3e0e21492381bafafe9d84f995bbb7dd"
   }
  }
 },
 "nbformat": 4,
 "nbformat_minor": 2
}

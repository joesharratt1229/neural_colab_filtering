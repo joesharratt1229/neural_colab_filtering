{
 "cells": [
  {
   "cell_type": "code",
   "execution_count": 1,
   "metadata": {},
   "outputs": [],
   "source": [
    "import pandas as pd\n",
    "import urllib\n",
    "import tempfile\n",
    "import shutil\n",
    "import zipfile\n",
    "import os\n",
    "\n",
    "os.chdir('/Users/joesh/neural_colab_filtering/')\n",
    "archive_url = f'http://files.grouplens.org/datasets/movielens/ml-1m.zip'\n",
    "wd = os.getcwd()\n",
    "\n",
    "with urllib.request.urlopen(archive_url) as url:\n",
    "    with tempfile.NamedTemporaryFile(delete=True) as f:\n",
    "        shutil.copyfileobj(url, f)\n",
    "        with zipfile.ZipFile(f.name) as archive:\n",
    "            archive.extractall(f'{wd}/datasets')\n",
    "\n"
   ]
  },
  {
   "cell_type": "markdown",
   "metadata": {},
   "source": []
  },
  {
   "cell_type": "code",
   "execution_count": 2,
   "metadata": {},
   "outputs": [
    {
     "data": {
      "text/html": [
       "<div>\n",
       "<style scoped>\n",
       "    .dataframe tbody tr th:only-of-type {\n",
       "        vertical-align: middle;\n",
       "    }\n",
       "\n",
       "    .dataframe tbody tr th {\n",
       "        vertical-align: top;\n",
       "    }\n",
       "\n",
       "    .dataframe thead th {\n",
       "        text-align: right;\n",
       "    }\n",
       "</style>\n",
       "<table border=\"1\" class=\"dataframe\">\n",
       "  <thead>\n",
       "    <tr style=\"text-align: right;\">\n",
       "      <th></th>\n",
       "      <th>user_id</th>\n",
       "      <th>movie_id</th>\n",
       "      <th>rating</th>\n",
       "      <th>timestamp</th>\n",
       "    </tr>\n",
       "  </thead>\n",
       "  <tbody>\n",
       "    <tr>\n",
       "      <th>0</th>\n",
       "      <td>1</td>\n",
       "      <td>1193</td>\n",
       "      <td>5</td>\n",
       "      <td>978300760</td>\n",
       "    </tr>\n",
       "    <tr>\n",
       "      <th>1</th>\n",
       "      <td>1</td>\n",
       "      <td>661</td>\n",
       "      <td>3</td>\n",
       "      <td>978302109</td>\n",
       "    </tr>\n",
       "    <tr>\n",
       "      <th>2</th>\n",
       "      <td>1</td>\n",
       "      <td>914</td>\n",
       "      <td>3</td>\n",
       "      <td>978301968</td>\n",
       "    </tr>\n",
       "    <tr>\n",
       "      <th>3</th>\n",
       "      <td>1</td>\n",
       "      <td>3408</td>\n",
       "      <td>4</td>\n",
       "      <td>978300275</td>\n",
       "    </tr>\n",
       "    <tr>\n",
       "      <th>4</th>\n",
       "      <td>1</td>\n",
       "      <td>2355</td>\n",
       "      <td>5</td>\n",
       "      <td>978824291</td>\n",
       "    </tr>\n",
       "  </tbody>\n",
       "</table>\n",
       "</div>"
      ],
      "text/plain": [
       "   user_id  movie_id  rating  timestamp\n",
       "0        1      1193       5  978300760\n",
       "1        1       661       3  978302109\n",
       "2        1       914       3  978301968\n",
       "3        1      3408       4  978300275\n",
       "4        1      2355       5  978824291"
      ]
     },
     "execution_count": 2,
     "metadata": {},
     "output_type": "execute_result"
    }
   ],
   "source": [
    "ratings = pd.read_csv('datasets/ml-1m/ratings.dat', sep='::', engine = 'python', \n",
    "                        header=None,\n",
    "                        names=['user_id', 'movie_id', 'rating', 'timestamp'])\n",
    "\n",
    "ratings.head()"
   ]
  },
  {
   "cell_type": "code",
   "execution_count": 3,
   "metadata": {},
   "outputs": [],
   "source": [
    "import source.model as model\n",
    "import source.data as data\n",
    "import torch\n",
    "import torch.nn as nn\n",
    "\n",
    "# Create a dataset object\n",
    "\n",
    "dataset = data.filmDataset( ratings['user_id'].values, ratings['movie_id'].values, \n",
    "                            ratings['rating'].values)\n",
    "\n",
    "mod = model.NCF(ratings.user_id.nunique(), ratings.movie_id.nunique())"
   ]
  },
  {
   "cell_type": "code",
   "execution_count": 4,
   "metadata": {},
   "outputs": [],
   "source": [
    "# Create a dataloader object\n",
    "\n",
    "from torch.utils.data import DataLoader\n",
    "train_set_size = int(0.9 * len(dataset))\n",
    "test_set_size = len(dataset) - train_set_size\n",
    "\n",
    "trainset, testset = torch.utils.data.random_split(dataset, [train_set_size, test_set_size])\n",
    "\n",
    "train_set_size = int(0.8 * len(trainset))\n",
    "valid_set_size = len(trainset) - train_set_size\n",
    "\n",
    "train_set, valid_set = torch.utils.data.random_split(trainset, \n",
    "                       [train_set_size, valid_set_size])\n",
    "\n",
    "train_loader = DataLoader(train_set, batch_size=64, shuffle=True, drop_last= False)\n",
    "valid_loader = DataLoader(valid_set, batch_size=64, shuffle=False, drop_last=False)\n",
    "test_loader = DataLoader(testset, batch_size=64, shuffle=False, drop_last=False)\n",
    "\n",
    "# Create a loss function and an optimizer\n",
    "loss_module = nn.MSELoss()\n",
    "optimizer = torch.optim.Adam(mod.parameters(), lr=0.01)"
   ]
  },
  {
   "cell_type": "code",
   "execution_count": 5,
   "metadata": {},
   "outputs": [],
   "source": [
    "d"
   ]
  }
 ],
 "metadata": {
  "kernelspec": {
   "display_name": "Python 3.10.6",
   "language": "python",
   "name": "python3"
  },
  "language_info": {
   "codemirror_mode": {
    "name": "ipython",
    "version": 3
   },
   "file_extension": ".py",
   "mimetype": "text/x-python",
   "name": "python",
   "nbconvert_exporter": "python",
   "pygments_lexer": "ipython3",
   "version": "3.10.6"
  },
  "orig_nbformat": 4,
  "vscode": {
   "interpreter": {
    "hash": "7288f315087fdb0a15835a979a50c8db3e0e21492381bafafe9d84f995bbb7dd"
   }
  }
 },
 "nbformat": 4,
 "nbformat_minor": 2
}

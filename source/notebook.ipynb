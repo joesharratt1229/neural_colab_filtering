{
 "cells": [
  {
   "cell_type": "code",
   "execution_count": 2,
   "metadata": {},
   "outputs": [],
   "source": [
    "import pandas as pd\n",
    "import urllib\n",
    "import tempfile\n",
    "import shutil\n",
    "import zipfile\n",
    "import os\n",
    "\n",
    "os.chdir('/Users/joesh/neural_colab_filtering/')\n",
    "archive_url = f'http://files.grouplens.org/datasets/movielens/ml-latest.zip'\n",
    "wd = os.getcwd()\n",
    "\n",
    "with urllib.request.urlopen(archive_url) as url:\n",
    "    with tempfile.NamedTemporaryFile(delete=True) as f:\n",
    "        shutil.copyfileobj(url, f)\n",
    "        with zipfile.ZipFile(f.name) as archive:\n",
    "            archive.extractall(f'{wd}/datasets')\n",
    "\n",
    "ratings = pd.read_csv('datasets/ml-latest/ratings.csv')\n",
    "\n",
    "ratings.head()"
   ]
  },
  {
   "cell_type": "code",
   "execution_count": null,
   "metadata": {},
   "outputs": [],
   "source": []
  }
 ],
 "metadata": {
  "kernelspec": {
   "display_name": "Python 3.10.6",
   "language": "python",
   "name": "python3"
  },
  "language_info": {
   "codemirror_mode": {
    "name": "ipython",
    "version": 3
   },
   "file_extension": ".py",
   "mimetype": "text/x-python",
   "name": "python",
   "nbconvert_exporter": "python",
   "pygments_lexer": "ipython3",
   "version": "3.10.6"
  },
  "orig_nbformat": 4,
  "vscode": {
   "interpreter": {
    "hash": "7288f315087fdb0a15835a979a50c8db3e0e21492381bafafe9d84f995bbb7dd"
   }
  }
 },
 "nbformat": 4,
 "nbformat_minor": 2
}

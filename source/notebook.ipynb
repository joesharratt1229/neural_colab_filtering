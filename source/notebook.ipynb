{
 "cells": [
  {
   "cell_type": "code",
   "execution_count": 1,
   "metadata": {},
   "outputs": [],
   "source": [
    "import pandas as pd\n",
    "import urllib\n",
    "import tempfile\n",
    "import shutil\n",
    "import zipfile\n",
    "import os\n",
    "\n",
    "os.chdir('/Users/joesh/neural_colab_filtering/')\n",
    "archive_url = f'http://files.grouplens.org/datasets/movielens/ml-1m.zip'\n",
    "wd = os.getcwd()\n",
    "\n",
    "with urllib.request.urlopen(archive_url) as url:\n",
    "    with tempfile.NamedTemporaryFile(delete=True) as f:\n",
    "        shutil.copyfileobj(url, f)\n",
    "        with zipfile.ZipFile(f.name) as archive:\n",
    "            archive.extractall(f'{wd}/datasets')\n"
   ]
  },
  {
   "cell_type": "code",
   "execution_count": 2,
   "metadata": {},
   "outputs": [
    {
     "name": "stdout",
     "output_type": "stream",
     "text": [
      "mps\n"
     ]
    }
   ],
   "source": [
    "import torch\n",
    "device = torch.device('cpu') if not torch.backends.mps.is_available() else torch.device('mps')\n",
    "print(device)"
   ]
  },
  {
   "cell_type": "code",
   "execution_count": 3,
   "metadata": {},
   "outputs": [
    {
     "data": {
      "text/html": [
       "<div>\n",
       "<style scoped>\n",
       "    .dataframe tbody tr th:only-of-type {\n",
       "        vertical-align: middle;\n",
       "    }\n",
       "\n",
       "    .dataframe tbody tr th {\n",
       "        vertical-align: top;\n",
       "    }\n",
       "\n",
       "    .dataframe thead th {\n",
       "        text-align: right;\n",
       "    }\n",
       "</style>\n",
       "<table border=\"1\" class=\"dataframe\">\n",
       "  <thead>\n",
       "    <tr style=\"text-align: right;\">\n",
       "      <th></th>\n",
       "      <th>user_id</th>\n",
       "      <th>movie_id</th>\n",
       "      <th>rating</th>\n",
       "      <th>timestamp</th>\n",
       "    </tr>\n",
       "  </thead>\n",
       "  <tbody>\n",
       "    <tr>\n",
       "      <th>0</th>\n",
       "      <td>1</td>\n",
       "      <td>1193</td>\n",
       "      <td>5</td>\n",
       "      <td>978300760</td>\n",
       "    </tr>\n",
       "    <tr>\n",
       "      <th>1</th>\n",
       "      <td>1</td>\n",
       "      <td>661</td>\n",
       "      <td>3</td>\n",
       "      <td>978302109</td>\n",
       "    </tr>\n",
       "    <tr>\n",
       "      <th>2</th>\n",
       "      <td>1</td>\n",
       "      <td>914</td>\n",
       "      <td>3</td>\n",
       "      <td>978301968</td>\n",
       "    </tr>\n",
       "    <tr>\n",
       "      <th>3</th>\n",
       "      <td>1</td>\n",
       "      <td>3408</td>\n",
       "      <td>4</td>\n",
       "      <td>978300275</td>\n",
       "    </tr>\n",
       "    <tr>\n",
       "      <th>4</th>\n",
       "      <td>1</td>\n",
       "      <td>2355</td>\n",
       "      <td>5</td>\n",
       "      <td>978824291</td>\n",
       "    </tr>\n",
       "  </tbody>\n",
       "</table>\n",
       "</div>"
      ],
      "text/plain": [
       "   user_id  movie_id  rating  timestamp\n",
       "0        1      1193       5  978300760\n",
       "1        1       661       3  978302109\n",
       "2        1       914       3  978301968\n",
       "3        1      3408       4  978300275\n",
       "4        1      2355       5  978824291"
      ]
     },
     "execution_count": 3,
     "metadata": {},
     "output_type": "execute_result"
    }
   ],
   "source": [
    "ratings = pd.read_csv('datasets/ml-1m/ratings.dat', sep='::', engine = 'python', \n",
    "                        header=None,\n",
    "                        names=['user_id', 'movie_id', 'rating', 'timestamp'])\n",
    "\n",
    "ratings.head()"
   ]
  },
  {
   "cell_type": "code",
   "execution_count": 4,
   "metadata": {},
   "outputs": [],
   "source": [
    "import source.model as model\n",
    "import source.data as data\n",
    "\n",
    "import torch.nn as nn\n",
    "\n",
    "# Create a dataset object\n",
    "\n",
    "dataset = data.filmDataset( ratings['user_id'].values, ratings['movie_id'].values, \n",
    "                            ratings['rating'].values)\n",
    "\n",
    "mod = model.NCF(ratings.user_id.nunique(), ratings.movie_id.nunique(), dropout_rate=0.2)"
   ]
  },
  {
   "cell_type": "code",
   "execution_count": 5,
   "metadata": {},
   "outputs": [],
   "source": [
    "# Create a dataloader object\n",
    "\n",
    "from torch.utils.data import DataLoader\n",
    "train_set_size = int(0.9 * len(dataset))\n",
    "test_set_size = len(dataset) - train_set_size\n",
    "\n",
    "trainset, testset = torch.utils.data.random_split(dataset, [train_set_size, test_set_size])\n",
    "\n",
    "train_set_size = int(0.8 * len(trainset))\n",
    "valid_set_size = len(trainset) - train_set_size\n",
    "\n",
    "train_set, valid_set = torch.utils.data.random_split(trainset, \n",
    "                       [train_set_size, valid_set_size])\n",
    "\n",
    "train_loader = DataLoader(train_set, batch_size=1024, shuffle=True, drop_last= False)\n",
    "valid_loader = DataLoader(valid_set, batch_size=1024, shuffle=False, drop_last=False)\n",
    "test_loader = DataLoader(testset, batch_size=1024, shuffle=False, drop_last=False)\n",
    "\n",
    "# Create a loss function and an optimizer\n",
    "#loss_module = nn.MSELoss()\n",
    "#optimizer = torch.optim.Adam(mod.parameters(), lr=0.01)"
   ]
  },
  {
   "cell_type": "code",
   "execution_count": 6,
   "metadata": {},
   "outputs": [
    {
     "name": "stdout",
     "output_type": "stream",
     "text": [
      "Our model architecture: \n",
      "\n",
      " NCF(\n",
      "  (embedding_user): Embedding(6040, 32)\n",
      "  (embedding_item): Embedding(3706, 32)\n",
      "  (MLP): Sequential(\n",
      "    (0): Linear(in_features=64, out_features=32, bias=True)\n",
      "    (1): ReLU()\n",
      "    (2): Dropout(p=0.2, inplace=False)\n",
      "    (3): Linear(in_features=32, out_features=16, bias=True)\n",
      "    (4): ReLU()\n",
      "    (5): Dropout(p=0.2, inplace=False)\n",
      "    (6): Linear(in_features=16, out_features=8, bias=True)\n",
      "    (7): ReLU()\n",
      "    (8): Dropout(p=0.2, inplace=False)\n",
      "    (9): Linear(in_features=8, out_features=1, bias=True)\n",
      "    (10): Sigmoid()\n",
      "  )\n",
      "  (dropout): Dropout(p=0.2, inplace=False)\n",
      ") \n",
      "\n"
     ]
    }
   ],
   "source": [
    "import json\n",
    "\n",
    "def _get_config_file(model_path, model_name):\n",
    "    #Name of the file for storing hyperparameter details\n",
    "    return os.path.join(model_path, model_name+ \".config\")\n",
    "\n",
    "def _get_model_file(model_path, model_name):\n",
    "    #Name of the file for storing network parameters\n",
    "    return os.path.join(model_path, model_name+\".tar\")\n",
    "\n",
    "def save_model(model, model_path, model_name):\n",
    "    config_dict = model.config\n",
    "    os.makedirs(model_path, exist_ok = True)\n",
    "    config_file, model_file = _get_config_file(model_path, model_name), _get_model_file(model_path, model_name)\n",
    "    with open(config_file, 'w') as f:\n",
    "        json.dump(config_dict, f)\n",
    "    torch.save(model.state_dict(), model_file)\n",
    "\n",
    "\n",
    "\n",
    "checkpoint_path = os.path.join(os.getcwd(), \"checkpoints\")\n",
    "mod = mod.to(device)\n",
    "num_params = sum(p.numel() for p in mod.parameters())\n",
    "print(f'Our model architecture: \\n\\n {mod} \\n')\n"
   ]
  },
  {
   "cell_type": "code",
   "execution_count": 9,
   "metadata": {},
   "outputs": [],
   "source": [
    "from tqdm.notebook import tqdm\n",
    "\n",
    "def train_model(net, model_name, max_epoch=30, patience= 5, overwrite=False):\n",
    "  file_exists  = os.path.isfile(_get_model_file(checkpoint_path, model_name))\n",
    "  if file_exists and not overwrite:\n",
    "    print(\"Model already exists. Skipping training\")\n",
    "  else:\n",
    "    if file_exists:\n",
    "      print(\"Overwriting existing model\")\n",
    "    \n",
    "    optimizer = torch.optim.Adam(net.parameters(), lr=0.01)\n",
    "    loss_module = nn.MSELoss()\n",
    "    \n",
    "    val_score = []\n",
    "    best_val_epoch = -1\n",
    "\n",
    "    for epoch in range(max_epoch):\n",
    "      net.train()\n",
    "      running_loss = 0.0\n",
    "      count = 0\n",
    "      for users, film, ratings in tqdm(train_loader, desc = f\"Epoch {epoch+1}\", leave=False):\n",
    "        count += 1\n",
    "        users , film, ratings = users.to(device), film.to(device), ratings.to(device)\n",
    "        ratings = ratings.unsqueeze(-1).type(torch.float32)\n",
    "        optimizer.zero_grad()\n",
    "        preds = net(users, film)\n",
    "        loss = loss_module(preds, ratings)\n",
    "        running_loss += loss.item()\n",
    "\n",
    "        loss.backward()\n",
    "        optimizer.step()\n",
    "      \n",
    "      running_loss = running_loss/count\n",
    "      val_loss = test_model(net, valid_loader)\n",
    "      val_score.append(val_loss)\n",
    "      print(f'Epoch {epoch+1:2d}: Training loss: {running_loss}, Validation loss {val_loss}')\n",
    "\n",
    "      if len(val_score) == 1 or val_loss < val_score[best_val_epoch]:\n",
    "        print(\"New best. Saving model\")\n",
    "        #save_model(net, checkpoint_path, model_name)\n",
    "        best_val_epoch = epoch\n",
    "      elif best_val_epoch <= epoch - patience:\n",
    "        print(f\"Early stopping since model is not improving over last {patience} epochs\")\n",
    "        break\n",
    "      \n",
    "def test_model(net, data_loader):\n",
    "  loss_module = nn.MSELoss()\n",
    "  net.eval()\n",
    "  running_loss = 0.0\n",
    "  count = 0\n",
    "  for users, films, ratings in data_loader:\n",
    "    count += 1\n",
    "    users , films, ratings = users.to(device), films.to(device), ratings.to(device)\n",
    "    with torch.no_grad():\n",
    "      ratings = ratings.unsqueeze(-1).type(torch.float32)\n",
    "      preds = net(users, films)\n",
    "      loss = loss_module(preds, ratings)\n",
    "      running_loss += loss.item()\n",
    "  return running_loss/count\n",
    "\n",
    "\n",
    "\n",
    "\n",
    "      \n",
    "    \n",
    "  \n",
    "\n"
   ]
  },
  {
   "cell_type": "code",
   "execution_count": 10,
   "metadata": {},
   "outputs": [
    {
     "data": {
      "application/vnd.jupyter.widget-view+json": {
       "model_id": "7900f909cc33476c9202ce1bda8c35ae",
       "version_major": 2,
       "version_minor": 0
      },
      "text/plain": [
       "Epoch 1:   0%|          | 0/704 [00:00<?, ?it/s]"
      ]
     },
     "metadata": {},
     "output_type": "display_data"
    },
    {
     "name": "stdout",
     "output_type": "stream",
     "text": [
      "Epoch  1: Training loss: 0.9076196818866513, Validation loss 0.8596027581529184\n",
      "New best. Saving model\n"
     ]
    },
    {
     "data": {
      "application/vnd.jupyter.widget-view+json": {
       "model_id": "13b6fabe5d074196a3f94d5b9ac0ef65",
       "version_major": 2,
       "version_minor": 0
      },
      "text/plain": [
       "Epoch 2:   0%|          | 0/704 [00:00<?, ?it/s]"
      ]
     },
     "metadata": {},
     "output_type": "display_data"
    },
    {
     "name": "stdout",
     "output_type": "stream",
     "text": [
      "Epoch  2: Training loss: 0.9005187434059653, Validation loss 0.8587483167648315\n",
      "New best. Saving model\n"
     ]
    },
    {
     "data": {
      "application/vnd.jupyter.widget-view+json": {
       "model_id": "e310abcacf6d4412887871b5c6d1dc15",
       "version_major": 2,
       "version_minor": 0
      },
      "text/plain": [
       "Epoch 3:   0%|          | 0/704 [00:00<?, ?it/s]"
      ]
     },
     "metadata": {},
     "output_type": "display_data"
    },
    {
     "name": "stdout",
     "output_type": "stream",
     "text": [
      "Epoch  3: Training loss: 0.8962043886157599, Validation loss 0.861221738836982\n"
     ]
    },
    {
     "data": {
      "application/vnd.jupyter.widget-view+json": {
       "model_id": "ca26c64145ca4fb88f2e1cf1d0f13c55",
       "version_major": 2,
       "version_minor": 0
      },
      "text/plain": [
       "Epoch 4:   0%|          | 0/704 [00:00<?, ?it/s]"
      ]
     },
     "metadata": {},
     "output_type": "display_data"
    },
    {
     "name": "stdout",
     "output_type": "stream",
     "text": [
      "Epoch  4: Training loss: 0.8924306207759813, Validation loss 0.8566829768771475\n",
      "New best. Saving model\n"
     ]
    },
    {
     "data": {
      "application/vnd.jupyter.widget-view+json": {
       "model_id": "8dd857d88f70491f9eacad8d756371fc",
       "version_major": 2,
       "version_minor": 0
      },
      "text/plain": [
       "Epoch 5:   0%|          | 0/704 [00:00<?, ?it/s]"
      ]
     },
     "metadata": {},
     "output_type": "display_data"
    },
    {
     "name": "stdout",
     "output_type": "stream",
     "text": [
      "Epoch  5: Training loss: 0.8904508234594356, Validation loss 0.8509871712462469\n",
      "New best. Saving model\n"
     ]
    },
    {
     "data": {
      "application/vnd.jupyter.widget-view+json": {
       "model_id": "be129d0f9289432ba4d28c3ac88d0e17",
       "version_major": 2,
       "version_minor": 0
      },
      "text/plain": [
       "Epoch 6:   0%|          | 0/704 [00:00<?, ?it/s]"
      ]
     },
     "metadata": {},
     "output_type": "display_data"
    },
    {
     "name": "stdout",
     "output_type": "stream",
     "text": [
      "Epoch  6: Training loss: 0.8872685069218278, Validation loss 0.850959128615531\n",
      "New best. Saving model\n"
     ]
    },
    {
     "data": {
      "application/vnd.jupyter.widget-view+json": {
       "model_id": "e480402653094967bc2db4c8bf8ef39d",
       "version_major": 2,
       "version_minor": 0
      },
      "text/plain": [
       "Epoch 7:   0%|          | 0/704 [00:00<?, ?it/s]"
      ]
     },
     "metadata": {},
     "output_type": "display_data"
    },
    {
     "name": "stdout",
     "output_type": "stream",
     "text": [
      "Epoch  7: Training loss: 0.8847615871239792, Validation loss 0.8537093052132563\n"
     ]
    },
    {
     "data": {
      "application/vnd.jupyter.widget-view+json": {
       "model_id": "db081a8bc7fb4533829987e0814e820a",
       "version_major": 2,
       "version_minor": 0
      },
      "text/plain": [
       "Epoch 8:   0%|          | 0/704 [00:00<?, ?it/s]"
      ]
     },
     "metadata": {},
     "output_type": "display_data"
    },
    {
     "name": "stdout",
     "output_type": "stream",
     "text": [
      "Epoch  8: Training loss: 0.882377269085158, Validation loss 0.855521827258847\n"
     ]
    },
    {
     "data": {
      "application/vnd.jupyter.widget-view+json": {
       "model_id": "379d71b85eee4974b45fa9edaaed73b1",
       "version_major": 2,
       "version_minor": 0
      },
      "text/plain": [
       "Epoch 9:   0%|          | 0/704 [00:00<?, ?it/s]"
      ]
     },
     "metadata": {},
     "output_type": "display_data"
    },
    {
     "name": "stdout",
     "output_type": "stream",
     "text": [
      "Epoch  9: Training loss: 0.8774598817425695, Validation loss 0.8455433591522954\n",
      "New best. Saving model\n"
     ]
    },
    {
     "data": {
      "application/vnd.jupyter.widget-view+json": {
       "model_id": "29575203e6da433b89ce09c7cbe7667a",
       "version_major": 2,
       "version_minor": 0
      },
      "text/plain": [
       "Epoch 10:   0%|          | 0/704 [00:00<?, ?it/s]"
      ]
     },
     "metadata": {},
     "output_type": "display_data"
    },
    {
     "name": "stdout",
     "output_type": "stream",
     "text": [
      "Epoch 10: Training loss: 0.8754263664172455, Validation loss 0.8417831229215319\n",
      "New best. Saving model\n"
     ]
    },
    {
     "data": {
      "application/vnd.jupyter.widget-view+json": {
       "model_id": "5c96b92291d645998f4c2be79e2890f7",
       "version_major": 2,
       "version_minor": 0
      },
      "text/plain": [
       "Epoch 11:   0%|          | 0/704 [00:00<?, ?it/s]"
      ]
     },
     "metadata": {},
     "output_type": "display_data"
    },
    {
     "name": "stdout",
     "output_type": "stream",
     "text": [
      "Epoch 11: Training loss: 0.8722276351499286, Validation loss 0.8392148461531509\n",
      "New best. Saving model\n"
     ]
    },
    {
     "data": {
      "application/vnd.jupyter.widget-view+json": {
       "model_id": "c0ab676c78634e0ba05b9fd086e4e001",
       "version_major": 2,
       "version_minor": 0
      },
      "text/plain": [
       "Epoch 12:   0%|          | 0/704 [00:00<?, ?it/s]"
      ]
     },
     "metadata": {},
     "output_type": "display_data"
    },
    {
     "name": "stdout",
     "output_type": "stream",
     "text": [
      "Epoch 12: Training loss: 0.8700794039971449, Validation loss 0.8397403572770682\n"
     ]
    },
    {
     "data": {
      "application/vnd.jupyter.widget-view+json": {
       "model_id": "4fca065ee669426590be3214bce0ff18",
       "version_major": 2,
       "version_minor": 0
      },
      "text/plain": [
       "Epoch 13:   0%|          | 0/704 [00:00<?, ?it/s]"
      ]
     },
     "metadata": {},
     "output_type": "display_data"
    },
    {
     "name": "stdout",
     "output_type": "stream",
     "text": [
      "Epoch 13: Training loss: 0.8662011109461839, Validation loss 0.8401969495144758\n"
     ]
    },
    {
     "data": {
      "application/vnd.jupyter.widget-view+json": {
       "model_id": "c9a6c1b463b1495481b829a7c41c0b21",
       "version_major": 2,
       "version_minor": 0
      },
      "text/plain": [
       "Epoch 14:   0%|          | 0/704 [00:00<?, ?it/s]"
      ]
     },
     "metadata": {},
     "output_type": "display_data"
    },
    {
     "name": "stdout",
     "output_type": "stream",
     "text": [
      "Epoch 14: Training loss: 0.8653643279421058, Validation loss 0.8386140428483486\n",
      "New best. Saving model\n"
     ]
    },
    {
     "data": {
      "application/vnd.jupyter.widget-view+json": {
       "model_id": "ac6b5f253da241709baa4822249847d0",
       "version_major": 2,
       "version_minor": 0
      },
      "text/plain": [
       "Epoch 15:   0%|          | 0/704 [00:00<?, ?it/s]"
      ]
     },
     "metadata": {},
     "output_type": "display_data"
    },
    {
     "name": "stdout",
     "output_type": "stream",
     "text": [
      "Epoch 15: Training loss: 0.8630463647740808, Validation loss 0.852774208242243\n"
     ]
    },
    {
     "data": {
      "application/vnd.jupyter.widget-view+json": {
       "model_id": "5b49a9654c9d455d985c3b632931ac98",
       "version_major": 2,
       "version_minor": 0
      },
      "text/plain": [
       "Epoch 16:   0%|          | 0/704 [00:00<?, ?it/s]"
      ]
     },
     "metadata": {},
     "output_type": "display_data"
    },
    {
     "name": "stdout",
     "output_type": "stream",
     "text": [
      "Epoch 16: Training loss: 0.8606322149492123, Validation loss 0.8362143991345709\n",
      "New best. Saving model\n"
     ]
    },
    {
     "data": {
      "application/vnd.jupyter.widget-view+json": {
       "model_id": "43eec06e9163472a8480dc1b70772933",
       "version_major": 2,
       "version_minor": 0
      },
      "text/plain": [
       "Epoch 17:   0%|          | 0/704 [00:00<?, ?it/s]"
      ]
     },
     "metadata": {},
     "output_type": "display_data"
    },
    {
     "name": "stdout",
     "output_type": "stream",
     "text": [
      "Epoch 17: Training loss: 0.8581413856114853, Validation loss 0.8440723114392974\n"
     ]
    },
    {
     "data": {
      "application/vnd.jupyter.widget-view+json": {
       "model_id": "627e3d5e26d347a7ad5c6be3a8f9b5fc",
       "version_major": 2,
       "version_minor": 0
      },
      "text/plain": [
       "Epoch 18:   0%|          | 0/704 [00:00<?, ?it/s]"
      ]
     },
     "metadata": {},
     "output_type": "display_data"
    },
    {
     "name": "stdout",
     "output_type": "stream",
     "text": [
      "Epoch 18: Training loss: 0.8588676247745752, Validation loss 0.839617901227691\n"
     ]
    },
    {
     "data": {
      "application/vnd.jupyter.widget-view+json": {
       "model_id": "088e513ffd2b4910928861f40d43322c",
       "version_major": 2,
       "version_minor": 0
      },
      "text/plain": [
       "Epoch 19:   0%|          | 0/704 [00:00<?, ?it/s]"
      ]
     },
     "metadata": {},
     "output_type": "display_data"
    },
    {
     "name": "stdout",
     "output_type": "stream",
     "text": [
      "Epoch 19: Training loss: 0.8582830353724685, Validation loss 0.8356746303086932\n",
      "New best. Saving model\n"
     ]
    },
    {
     "data": {
      "application/vnd.jupyter.widget-view+json": {
       "model_id": "8d4ad37931bf462f9fe8f8a710f3889a",
       "version_major": 2,
       "version_minor": 0
      },
      "text/plain": [
       "Epoch 20:   0%|          | 0/704 [00:00<?, ?it/s]"
      ]
     },
     "metadata": {},
     "output_type": "display_data"
    },
    {
     "name": "stdout",
     "output_type": "stream",
     "text": [
      "Epoch 20: Training loss: 0.857596620155329, Validation loss 0.839794649657878\n"
     ]
    },
    {
     "data": {
      "application/vnd.jupyter.widget-view+json": {
       "model_id": "afed09d9df8a4970a65f68ae52cc6e91",
       "version_major": 2,
       "version_minor": 0
      },
      "text/plain": [
       "Epoch 21:   0%|          | 0/704 [00:00<?, ?it/s]"
      ]
     },
     "metadata": {},
     "output_type": "display_data"
    },
    {
     "name": "stdout",
     "output_type": "stream",
     "text": [
      "Epoch 21: Training loss: 0.8570499113676223, Validation loss 0.8343702764673666\n",
      "New best. Saving model\n"
     ]
    },
    {
     "data": {
      "application/vnd.jupyter.widget-view+json": {
       "model_id": "5dea4281973d452088b09d71df67264f",
       "version_major": 2,
       "version_minor": 0
      },
      "text/plain": [
       "Epoch 22:   0%|          | 0/704 [00:00<?, ?it/s]"
      ]
     },
     "metadata": {},
     "output_type": "display_data"
    },
    {
     "name": "stdout",
     "output_type": "stream",
     "text": [
      "Epoch 22: Training loss: 0.8532618004828691, Validation loss 0.8327173726125197\n",
      "New best. Saving model\n"
     ]
    },
    {
     "data": {
      "application/vnd.jupyter.widget-view+json": {
       "model_id": "1a4b6c6bafdd443cb9f0cd3b731e0d38",
       "version_major": 2,
       "version_minor": 0
      },
      "text/plain": [
       "Epoch 23:   0%|          | 0/704 [00:00<?, ?it/s]"
      ]
     },
     "metadata": {},
     "output_type": "display_data"
    },
    {
     "name": "stdout",
     "output_type": "stream",
     "text": [
      "Epoch 23: Training loss: 0.8512981518764388, Validation loss 0.8331840498880907\n"
     ]
    },
    {
     "data": {
      "application/vnd.jupyter.widget-view+json": {
       "model_id": "3993b2b749ce4661b531036edd4af9f9",
       "version_major": 2,
       "version_minor": 0
      },
      "text/plain": [
       "Epoch 24:   0%|          | 0/704 [00:00<?, ?it/s]"
      ]
     },
     "metadata": {},
     "output_type": "display_data"
    },
    {
     "name": "stdout",
     "output_type": "stream",
     "text": [
      "Epoch 24: Training loss: 0.8515854731879451, Validation loss 0.8390824357894334\n"
     ]
    },
    {
     "data": {
      "application/vnd.jupyter.widget-view+json": {
       "model_id": "7abd91eb9df1405aa0f5bde522089446",
       "version_major": 2,
       "version_minor": 0
      },
      "text/plain": [
       "Epoch 25:   0%|          | 0/704 [00:00<?, ?it/s]"
      ]
     },
     "metadata": {},
     "output_type": "display_data"
    },
    {
     "name": "stdout",
     "output_type": "stream",
     "text": [
      "Epoch 25: Training loss: 0.8503620515323498, Validation loss 0.8389693501998078\n"
     ]
    },
    {
     "data": {
      "application/vnd.jupyter.widget-view+json": {
       "model_id": "f3ee138d1001404eb5b0550f9f67522a",
       "version_major": 2,
       "version_minor": 0
      },
      "text/plain": [
       "Epoch 26:   0%|          | 0/704 [00:00<?, ?it/s]"
      ]
     },
     "metadata": {},
     "output_type": "display_data"
    },
    {
     "name": "stdout",
     "output_type": "stream",
     "text": [
      "Epoch 26: Training loss: 0.8504925237291239, Validation loss 0.8336940678683195\n"
     ]
    },
    {
     "data": {
      "application/vnd.jupyter.widget-view+json": {
       "model_id": "30e56311939e4c42842a726f061c89f4",
       "version_major": 2,
       "version_minor": 0
      },
      "text/plain": [
       "Epoch 27:   0%|          | 0/704 [00:00<?, ?it/s]"
      ]
     },
     "metadata": {},
     "output_type": "display_data"
    },
    {
     "name": "stdout",
     "output_type": "stream",
     "text": [
      "Epoch 27: Training loss: 0.8490051506087184, Validation loss 0.836385424841534\n",
      "Early stopping since model is not improving over last 5 epochs\n"
     ]
    }
   ],
   "source": [
    "mod_name = \"NCF_Recommender\"\n",
    "torch.seed()\n",
    "train_model(mod, mod_name)\n"
   ]
  }
 ],
 "metadata": {
  "kernelspec": {
   "display_name": "Python 3 (ipykernel)",
   "language": "python",
   "name": "python3"
  },
  "language_info": {
   "codemirror_mode": {
    "name": "ipython",
    "version": 3
   },
   "file_extension": ".py",
   "mimetype": "text/x-python",
   "name": "python",
   "nbconvert_exporter": "python",
   "pygments_lexer": "ipython3",
   "version": "3.10.6"
  },
  "vscode": {
   "interpreter": {
    "hash": "7288f315087fdb0a15835a979a50c8db3e0e21492381bafafe9d84f995bbb7dd"
   }
  }
 },
 "nbformat": 4,
 "nbformat_minor": 2
}

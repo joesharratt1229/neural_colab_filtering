{
 "cells": [
  {
   "cell_type": "code",
   "execution_count": 35,
   "metadata": {},
   "outputs": [],
   "source": [
    "import pandas as pd\n",
    "import urllib\n",
    "import tempfile\n",
    "import shutil\n",
    "import zipfile\n",
    "import os\n",
    "\n",
    "os.chdir('/Users/joesh/neural_colab_filtering/')\n",
    "archive_url = f'http://files.grouplens.org/datasets/movielens/ml-1m.zip'\n",
    "wd = os.getcwd()\n",
    "\n",
    "with urllib.request.urlopen(archive_url) as url:\n",
    "    with tempfile.NamedTemporaryFile(delete=True) as f:\n",
    "        shutil.copyfileobj(url, f)\n",
    "        with zipfile.ZipFile(f.name) as archive:\n",
    "            archive.extractall(f'{wd}/datasets')\n"
   ]
  },
  {
   "cell_type": "code",
   "execution_count": 36,
   "metadata": {},
   "outputs": [
    {
     "name": "stdout",
     "output_type": "stream",
     "text": [
      "mps\n"
     ]
    }
   ],
   "source": [
    "import torch\n",
    "device = torch.device('cpu') if not torch.backends.mps.is_available() else torch.device('mps')\n",
    "print(device)"
   ]
  },
  {
   "cell_type": "code",
   "execution_count": 37,
   "metadata": {},
   "outputs": [
    {
     "data": {
      "text/html": [
       "<div>\n",
       "<style scoped>\n",
       "    .dataframe tbody tr th:only-of-type {\n",
       "        vertical-align: middle;\n",
       "    }\n",
       "\n",
       "    .dataframe tbody tr th {\n",
       "        vertical-align: top;\n",
       "    }\n",
       "\n",
       "    .dataframe thead th {\n",
       "        text-align: right;\n",
       "    }\n",
       "</style>\n",
       "<table border=\"1\" class=\"dataframe\">\n",
       "  <thead>\n",
       "    <tr style=\"text-align: right;\">\n",
       "      <th></th>\n",
       "      <th>user_id</th>\n",
       "      <th>movie_id</th>\n",
       "      <th>rating</th>\n",
       "      <th>timestamp</th>\n",
       "    </tr>\n",
       "  </thead>\n",
       "  <tbody>\n",
       "    <tr>\n",
       "      <th>0</th>\n",
       "      <td>1</td>\n",
       "      <td>1193</td>\n",
       "      <td>5</td>\n",
       "      <td>978300760</td>\n",
       "    </tr>\n",
       "    <tr>\n",
       "      <th>1</th>\n",
       "      <td>1</td>\n",
       "      <td>661</td>\n",
       "      <td>3</td>\n",
       "      <td>978302109</td>\n",
       "    </tr>\n",
       "    <tr>\n",
       "      <th>2</th>\n",
       "      <td>1</td>\n",
       "      <td>914</td>\n",
       "      <td>3</td>\n",
       "      <td>978301968</td>\n",
       "    </tr>\n",
       "    <tr>\n",
       "      <th>3</th>\n",
       "      <td>1</td>\n",
       "      <td>3408</td>\n",
       "      <td>4</td>\n",
       "      <td>978300275</td>\n",
       "    </tr>\n",
       "    <tr>\n",
       "      <th>4</th>\n",
       "      <td>1</td>\n",
       "      <td>2355</td>\n",
       "      <td>5</td>\n",
       "      <td>978824291</td>\n",
       "    </tr>\n",
       "  </tbody>\n",
       "</table>\n",
       "</div>"
      ],
      "text/plain": [
       "   user_id  movie_id  rating  timestamp\n",
       "0        1      1193       5  978300760\n",
       "1        1       661       3  978302109\n",
       "2        1       914       3  978301968\n",
       "3        1      3408       4  978300275\n",
       "4        1      2355       5  978824291"
      ]
     },
     "execution_count": 37,
     "metadata": {},
     "output_type": "execute_result"
    }
   ],
   "source": [
    "ratings = pd.read_csv('datasets/ml-1m/ratings.dat', sep='::', engine = 'python', \n",
    "                        header=None,\n",
    "                        names=['user_id', 'movie_id', 'rating', 'timestamp'])\n",
    "\n",
    "ratings.head()"
   ]
  },
  {
   "cell_type": "code",
   "execution_count": 38,
   "metadata": {},
   "outputs": [],
   "source": [
    "import source.model as model\n",
    "import source.data as data\n",
    "\n",
    "import torch.nn as nn\n",
    "\n",
    "# Create a dataset object\n",
    "\n",
    "dataset = data.filmDataset( ratings['user_id'].values, ratings['movie_id'].values, \n",
    "                            ratings['rating'].values)\n",
    "\n",
    "mod = model.NCF(ratings.user_id.nunique(), ratings.movie_id.nunique(), dropout_rate=0.2)"
   ]
  },
  {
   "cell_type": "code",
   "execution_count": 39,
   "metadata": {},
   "outputs": [],
   "source": [
    "# Create a dataloader object\n",
    "\n",
    "from torch.utils.data import DataLoader\n",
    "def create_dataloader(dataset, batch_size):\n",
    "    train_set_size = int(0.9 * len(dataset))\n",
    "    test_set_size = len(dataset) - train_set_size\n",
    "\n",
    "    trainset, testset = torch.utils.data.random_split(dataset, [train_set_size, test_set_size])\n",
    "\n",
    "    train_set_size = int(0.8 * len(trainset))\n",
    "    valid_set_size = len(trainset) - train_set_size\n",
    "\n",
    "    train_set, valid_set = torch.utils.data.random_split(trainset, \n",
    "                       [train_set_size, valid_set_size])\n",
    "\n",
    "    train_loader = DataLoader(train_set, batch_size=batch_size, shuffle=True, drop_last= False)\n",
    "    valid_loader = DataLoader(valid_set, batch_size=batch_size, shuffle=False, drop_last=False)\n",
    "    test_loader = DataLoader(testset, batch_size=batch_size, shuffle=False, drop_last=False)\n",
    "    return train_loader, valid_loader, test_loader\n",
    "\n",
    "train_loader, valid_loader, test_loader = create_dataloader(dataset, 1024)"
   ]
  },
  {
   "cell_type": "code",
   "execution_count": 40,
   "metadata": {},
   "outputs": [
    {
     "name": "stdout",
     "output_type": "stream",
     "text": [
      "Our model architecture: \n",
      "\n",
      " NCF(\n",
      "  (embedding_user): Embedding(6040, 32)\n",
      "  (embedding_item): Embedding(3706, 32)\n",
      "  (MLP): Sequential(\n",
      "    (0): Linear(in_features=64, out_features=32, bias=True)\n",
      "    (1): ReLU()\n",
      "    (2): Dropout(p=0.2, inplace=False)\n",
      "    (3): Linear(in_features=32, out_features=16, bias=True)\n",
      "    (4): ReLU()\n",
      "    (5): Dropout(p=0.2, inplace=False)\n",
      "    (6): Linear(in_features=16, out_features=8, bias=True)\n",
      "    (7): ReLU()\n",
      "    (8): Dropout(p=0.2, inplace=False)\n",
      "    (9): Linear(in_features=8, out_features=1, bias=True)\n",
      "    (10): Sigmoid()\n",
      "  )\n",
      "  (dropout): Dropout(p=0.2, inplace=False)\n",
      ") \n",
      "\n"
     ]
    }
   ],
   "source": [
    "import json\n",
    "\n",
    "def _get_config_file(model_path, model_name):\n",
    "    #Name of the file for storing hyperparameter details\n",
    "    return os.path.join(model_path, model_name+ \".config\")\n",
    "\n",
    "def _get_model_file(model_path, model_name):\n",
    "    #Name of the file for storing network parameters\n",
    "    return os.path.join(model_path, model_name+\".tar\")\n",
    "\n",
    "def save_model(model, model_path, model_name):\n",
    "    config_dict = model.config\n",
    "    os.makedirs(model_path, exist_ok = True)\n",
    "    config_file, model_file = _get_config_file(model_path, model_name), _get_model_file(model_path, model_name)\n",
    "    with open(config_file, 'w') as f:\n",
    "        json.dump(config_dict, f)\n",
    "    torch.save(model.state_dict(), model_file)\n",
    "\n",
    "\n",
    "\n",
    "checkpoint_path = os.path.join(os.getcwd(), \"checkpoints\")\n",
    "mod = mod.to(device)\n",
    "num_params = sum(p.numel() for p in mod.parameters())\n",
    "print(f'Our model architecture: \\n\\n {mod} \\n')\n",
    "\n",
    "def load_model(model_path, model_name, network=None):\n",
    "    model_file = _get_model_file(model_path, model_name)\n",
    "    network.load_state_dict(torch.load(model_file, map_location=device))\n",
    "    return network"
   ]
  },
  {
   "cell_type": "code",
   "execution_count": 43,
   "metadata": {},
   "outputs": [],
   "source": [
    "from tqdm.notebook import tqdm\n",
    "\n",
    "def train_model(net, model_name, dataset, max_epoch=30, patience= 5, overwrite=False):\n",
    "  file_exists  = os.path.isfile(_get_model_file(checkpoint_path, model_name))\n",
    "  train_loader, valid_loader, test_loader = create_dataloader(dataset, 1024)  \n",
    "  if file_exists and not overwrite:\n",
    "    print(\"Model already exists. Skipping training\")\n",
    "  else:\n",
    "    if file_exists:\n",
    "      print(\"Overwriting existing model\")\n",
    "    \n",
    "    optimizer = torch.optim.Adam(net.parameters(), lr=0.01)\n",
    "    loss_module = nn.MSELoss()\n",
    "    \n",
    "    val_score = []\n",
    "    best_val_epoch = -1\n",
    "    \n",
    "\n",
    "    for epoch in range(max_epoch):\n",
    "      net.train()\n",
    "      running_loss = 0.0\n",
    "      count = 0\n",
    "      for users, film, ratings in tqdm(train_loader, desc = f\"Epoch {epoch+1}\", leave=False):\n",
    "        count += 1\n",
    "        users , film, ratings = users.to(device), film.to(device), ratings.to(device)\n",
    "        ratings = ratings.unsqueeze(-1).type(torch.float32)\n",
    "        optimizer.zero_grad() #clear any existing gradients\n",
    "        preds = net(users, film)\n",
    "        loss = loss_module(preds, ratings)\n",
    "        running_loss += loss.item()\n",
    "\n",
    "        loss.backward()\n",
    "        optimizer.step()\n",
    "      \n",
    "      running_loss = running_loss/count\n",
    "      val_loss = test_model(net, valid_loader)\n",
    "      val_score.append(val_loss)\n",
    "      print(f'Epoch {epoch+1:2d}: Training loss: {running_loss}, Validation loss {val_loss}')\n",
    "\n",
    "      if len(val_score) == 1 or val_loss < val_score[best_val_epoch]:\n",
    "        print(\"New best. Saving model\")\n",
    "        save_model(net, checkpoint_path, model_name)\n",
    "        best_val_epoch = epoch\n",
    "      elif best_val_epoch <= epoch - patience:\n",
    "        print(f\"Early stopping since model is not improving over last {patience} epochs\")\n",
    "        break\n",
    "    \n",
    "  load_model(checkpoint_path, model_name, net)\n",
    "  test_acc = test_model(net, test_loader)\n",
    "  print(f\"Test loss: {test_acc}\")\n",
    "  return test_acc\n",
    "      \n",
    "def test_model(net, data_loader):\n",
    "  loss_module = nn.MSELoss()\n",
    "  net.eval()\n",
    "  running_loss = 0.0\n",
    "  count = 0\n",
    "  for users, films, ratings in data_loader:\n",
    "    count += 1\n",
    "    users , films, ratings = users.to(device), films.to(device), ratings.to(device)\n",
    "    with torch.no_grad():\n",
    "      ratings = ratings.unsqueeze(-1).type(torch.float32)\n",
    "      preds = net(users, films)\n",
    "      loss = loss_module(preds, ratings)\n",
    "      running_loss += loss.item()\n",
    "  return running_loss/count\n"
   ]
  },
  {
   "cell_type": "code",
   "execution_count": 44,
   "metadata": {},
   "outputs": [
    {
     "name": "stdout",
     "output_type": "stream",
     "text": [
      "Model already exists. Skipping training\n",
      "Test loss: 0.7587132374851071\n"
     ]
    },
    {
     "data": {
      "text/plain": [
       "0.7587132374851071"
      ]
     },
     "execution_count": 44,
     "metadata": {},
     "output_type": "execute_result"
    }
   ],
   "source": [
    "mod_name = \"NCF_Recommender\"\n",
    "torch.seed()\n",
    "train_model(mod, mod_name, dataset)\n"
   ]
  },
  {
   "cell_type": "code",
   "execution_count": 47,
   "metadata": {},
   "outputs": [
    {
     "ename": "TypeError",
     "evalue": "embedding(): argument 'indices' (position 2) must be Tensor, not list",
     "output_type": "error",
     "traceback": [
      "\u001b[0;31m---------------------------------------------------------------------------\u001b[0m",
      "\u001b[0;31mTypeError\u001b[0m                                 Traceback (most recent call last)",
      "Cell \u001b[0;32mIn [47], line 9\u001b[0m\n\u001b[1;32m      6\u001b[0m torch\u001b[39m.\u001b[39mseed()\n\u001b[1;32m      7\u001b[0m \u001b[39m#train_model(gmf_mod, gmf_mod_name, dataset)\u001b[39;00m\n\u001b[0;32m----> 9\u001b[0m gmf_mod([\u001b[39m1\u001b[39;49m,\u001b[39m2\u001b[39;49m,\u001b[39m3\u001b[39;49m], [\u001b[39m1\u001b[39;49m,\u001b[39m2\u001b[39;49m,\u001b[39m3\u001b[39;49m])\n",
      "File \u001b[0;32m/opt/miniconda3/envs/torch/lib/python3.10/site-packages/torch/nn/modules/module.py:1130\u001b[0m, in \u001b[0;36mModule._call_impl\u001b[0;34m(self, *input, **kwargs)\u001b[0m\n\u001b[1;32m   1126\u001b[0m \u001b[39m# If we don't have any hooks, we want to skip the rest of the logic in\u001b[39;00m\n\u001b[1;32m   1127\u001b[0m \u001b[39m# this function, and just call forward.\u001b[39;00m\n\u001b[1;32m   1128\u001b[0m \u001b[39mif\u001b[39;00m \u001b[39mnot\u001b[39;00m (\u001b[39mself\u001b[39m\u001b[39m.\u001b[39m_backward_hooks \u001b[39mor\u001b[39;00m \u001b[39mself\u001b[39m\u001b[39m.\u001b[39m_forward_hooks \u001b[39mor\u001b[39;00m \u001b[39mself\u001b[39m\u001b[39m.\u001b[39m_forward_pre_hooks \u001b[39mor\u001b[39;00m _global_backward_hooks\n\u001b[1;32m   1129\u001b[0m         \u001b[39mor\u001b[39;00m _global_forward_hooks \u001b[39mor\u001b[39;00m _global_forward_pre_hooks):\n\u001b[0;32m-> 1130\u001b[0m     \u001b[39mreturn\u001b[39;00m forward_call(\u001b[39m*\u001b[39;49m\u001b[39minput\u001b[39;49m, \u001b[39m*\u001b[39;49m\u001b[39m*\u001b[39;49mkwargs)\n\u001b[1;32m   1131\u001b[0m \u001b[39m# Do not call functions when jit is used\u001b[39;00m\n\u001b[1;32m   1132\u001b[0m full_backward_hooks, non_full_backward_hooks \u001b[39m=\u001b[39m [], []\n",
      "File \u001b[0;32m~/neural_colab_filtering/source/gmf.py:13\u001b[0m, in \u001b[0;36mGMF.forward\u001b[0;34m(self, user_indices, item_indices)\u001b[0m\n\u001b[1;32m     12\u001b[0m \u001b[39mdef\u001b[39;00m \u001b[39mforward\u001b[39m(\u001b[39mself\u001b[39m, user_indices, item_indices):\n\u001b[0;32m---> 13\u001b[0m     user_embedding \u001b[39m=\u001b[39m \u001b[39mself\u001b[39m\u001b[39m.\u001b[39membedding_user(user_indices)\n\u001b[1;32m     14\u001b[0m     item_embedding \u001b[39m=\u001b[39m \u001b[39mself\u001b[39m\u001b[39m.\u001b[39membedding_item(item_indices)\n\u001b[1;32m     15\u001b[0m     x \u001b[39m=\u001b[39m torch\u001b[39m.\u001b[39mmul(user_embedding, item_embedding)\n",
      "File \u001b[0;32m/opt/miniconda3/envs/torch/lib/python3.10/site-packages/torch/nn/modules/module.py:1130\u001b[0m, in \u001b[0;36mModule._call_impl\u001b[0;34m(self, *input, **kwargs)\u001b[0m\n\u001b[1;32m   1126\u001b[0m \u001b[39m# If we don't have any hooks, we want to skip the rest of the logic in\u001b[39;00m\n\u001b[1;32m   1127\u001b[0m \u001b[39m# this function, and just call forward.\u001b[39;00m\n\u001b[1;32m   1128\u001b[0m \u001b[39mif\u001b[39;00m \u001b[39mnot\u001b[39;00m (\u001b[39mself\u001b[39m\u001b[39m.\u001b[39m_backward_hooks \u001b[39mor\u001b[39;00m \u001b[39mself\u001b[39m\u001b[39m.\u001b[39m_forward_hooks \u001b[39mor\u001b[39;00m \u001b[39mself\u001b[39m\u001b[39m.\u001b[39m_forward_pre_hooks \u001b[39mor\u001b[39;00m _global_backward_hooks\n\u001b[1;32m   1129\u001b[0m         \u001b[39mor\u001b[39;00m _global_forward_hooks \u001b[39mor\u001b[39;00m _global_forward_pre_hooks):\n\u001b[0;32m-> 1130\u001b[0m     \u001b[39mreturn\u001b[39;00m forward_call(\u001b[39m*\u001b[39;49m\u001b[39minput\u001b[39;49m, \u001b[39m*\u001b[39;49m\u001b[39m*\u001b[39;49mkwargs)\n\u001b[1;32m   1131\u001b[0m \u001b[39m# Do not call functions when jit is used\u001b[39;00m\n\u001b[1;32m   1132\u001b[0m full_backward_hooks, non_full_backward_hooks \u001b[39m=\u001b[39m [], []\n",
      "File \u001b[0;32m/opt/miniconda3/envs/torch/lib/python3.10/site-packages/torch/nn/modules/sparse.py:158\u001b[0m, in \u001b[0;36mEmbedding.forward\u001b[0;34m(self, input)\u001b[0m\n\u001b[1;32m    157\u001b[0m \u001b[39mdef\u001b[39;00m \u001b[39mforward\u001b[39m(\u001b[39mself\u001b[39m, \u001b[39minput\u001b[39m: Tensor) \u001b[39m-\u001b[39m\u001b[39m>\u001b[39m Tensor:\n\u001b[0;32m--> 158\u001b[0m     \u001b[39mreturn\u001b[39;00m F\u001b[39m.\u001b[39;49membedding(\n\u001b[1;32m    159\u001b[0m         \u001b[39minput\u001b[39;49m, \u001b[39mself\u001b[39;49m\u001b[39m.\u001b[39;49mweight, \u001b[39mself\u001b[39;49m\u001b[39m.\u001b[39;49mpadding_idx, \u001b[39mself\u001b[39;49m\u001b[39m.\u001b[39;49mmax_norm,\n\u001b[1;32m    160\u001b[0m         \u001b[39mself\u001b[39;49m\u001b[39m.\u001b[39;49mnorm_type, \u001b[39mself\u001b[39;49m\u001b[39m.\u001b[39;49mscale_grad_by_freq, \u001b[39mself\u001b[39;49m\u001b[39m.\u001b[39;49msparse)\n",
      "File \u001b[0;32m/opt/miniconda3/envs/torch/lib/python3.10/site-packages/torch/nn/functional.py:2199\u001b[0m, in \u001b[0;36membedding\u001b[0;34m(input, weight, padding_idx, max_norm, norm_type, scale_grad_by_freq, sparse)\u001b[0m\n\u001b[1;32m   2193\u001b[0m     \u001b[39m# Note [embedding_renorm set_grad_enabled]\u001b[39;00m\n\u001b[1;32m   2194\u001b[0m     \u001b[39m# XXX: equivalent to\u001b[39;00m\n\u001b[1;32m   2195\u001b[0m     \u001b[39m# with torch.no_grad():\u001b[39;00m\n\u001b[1;32m   2196\u001b[0m     \u001b[39m#   torch.embedding_renorm_\u001b[39;00m\n\u001b[1;32m   2197\u001b[0m     \u001b[39m# remove once script supports set_grad_enabled\u001b[39;00m\n\u001b[1;32m   2198\u001b[0m     _no_grad_embedding_renorm_(weight, \u001b[39minput\u001b[39m, max_norm, norm_type)\n\u001b[0;32m-> 2199\u001b[0m \u001b[39mreturn\u001b[39;00m torch\u001b[39m.\u001b[39;49membedding(weight, \u001b[39minput\u001b[39;49m, padding_idx, scale_grad_by_freq, sparse)\n",
      "\u001b[0;31mTypeError\u001b[0m: embedding(): argument 'indices' (position 2) must be Tensor, not list"
     ]
    }
   ],
   "source": [
    "#mod.MLP\n",
    "import gmf\n",
    "gmf_mod = gmf.GMF(ratings.user_id.nunique(), ratings.movie_id.nunique())\n",
    "gmf_mod = gmf_mod.to(device)\n",
    "gmf_mod_name = \"GMF_Recommender\"\n",
    "torch.seed()\n",
    "train_model(gmf_mod, gmf_mod_name, dataset)\n"
   ]
  }
 ],
 "metadata": {
  "kernelspec": {
   "display_name": "Python 3 (ipykernel)",
   "language": "python",
   "name": "python3"
  },
  "language_info": {
   "codemirror_mode": {
    "name": "ipython",
    "version": 3
   },
   "file_extension": ".py",
   "mimetype": "text/x-python",
   "name": "python",
   "nbconvert_exporter": "python",
   "pygments_lexer": "ipython3",
   "version": "3.10.6"
  },
  "vscode": {
   "interpreter": {
    "hash": "7288f315087fdb0a15835a979a50c8db3e0e21492381bafafe9d84f995bbb7dd"
   }
  }
 },
 "nbformat": 4,
 "nbformat_minor": 2
}
